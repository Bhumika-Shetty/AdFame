{
 "cells": [
  {
   "cell_type": "markdown",
   "id": "33a8b0fd-013b-49c0-bdcc-99f25afc35c8",
   "metadata": {
    "jp-MarkdownHeadingCollapsed": true,
    "tags": []
   },
   "source": [
    "### Block storage using the Horizon GUI\n",
    "\n",
    "First, let’s try creating a block storage volume from the OpenStack Horizon GUI. Open the GUI for KVM@TACC:\n",
    "\n",
    "-   from the [Chameleon website](https://chameleoncloud.org/hardware/)\n",
    "-   click “Experiment” \\> “KVM@TACC”\n",
    "-   log in if prompted to do so\n",
    "-   check the project drop-down menu near the top left (which shows e.g. “CHI-XXXXXX”), and make sure the correct project is selected.\n",
    "\n",
    "In the menu sidebar on the left side, click on “Volumes” \\> “Volumes” and then, “Create Volume”. You will be prompted to set up your volume step by step using a graphical “wizard”.\n",
    "\n",
    "-   Specify the name as <code>block-persist-<b>project15</b></code> \n",
    "-   Specify the size as >200 GiB based on number of workers.\n",
    "-   Leave other settings at their defaults, and click “Create Volume”.\n",
    "\n",
    "Next, it’s time to to attach the block storage volume to the compute instance we created earlier. From “Volumes” \\> “Volumes”, next to *your* volume, click the ▼ in the menu on the right and choose “Manage Attachments”. In the “Attach to Instance” menu, choose your compute instance. Then, click “Attach Volume”.\n",
    "\n",
    "Now, the “Volumes” overview page in the Horizon GUI should show something like for your volume:\n",
    "\n",
    "    | Name                | Description | Size | Status | Group | Type     | Attached To                     | Availability Zone | Bootable | Encrypted |\n",
    "    |---------------------|-------------|------|--------|-------|----------|---------------------------------|-------------------|----------|-----------|\n",
    "    | block-persist-project15 | -           | 250GiB | In-use | -     | ceph-ssd | /dev/vdb on node-persist-netID  | nova              | No       | No        |\n",
    "\n",
    "On the instance, let’s confirm that we can see the block storage volume. Run\n",
    "\n",
    "``` bash\n",
    "# run on node-project15-data\n",
    "lsblk\n",
    "```\n",
    "\n",
    "and verify that `vdb` appears in the output.\n",
    "\n",
    "The volume is essentially a raw disk. Before we can use it **for the first time** after creating it, we need to partition the disk, create a filesystem on the partition, and mount it. In subsequent uses, we will only need to mount it.\n",
    "\n",
    "> **Note**: if the volume already had data on it, creating a filesystem on it would erase all its data! This procedure is *only* for the initial setup of a volume, before it has any data on it.\n",
    "\n",
    "First, we create a partition with an `ext4` filesystem, occupying the entire volume:\n",
    "\n",
    "``` bash\n",
    "# run on node-project15-data\n",
    "sudo parted -s /dev/vdb mklabel gpt\n",
    "sudo parted -s /dev/vdb mkpart primary ext4 0% 100%\n",
    "```\n",
    "\n",
    "Verify that we now have the partition `vdb1` in the output of\n",
    "\n",
    "``` bash\n",
    "# run on node-project15-data\n",
    "lsblk\n",
    "```\n",
    "\n",
    "Next, we format the partition:\n",
    "\n",
    "``` bash\n",
    "# run on node-project15-data\n",
    "sudo mkfs.ext4 /dev/vdb1\n",
    "```\n",
    "\n",
    "Finally, we can create a directory in the local filesystem, mount the partition to that directory:\n",
    "\n",
    "``` bash\n",
    "# run on node-project15-data\n",
    "sudo mkdir -p /mnt/block\n",
    "sudo mount /dev/vdb1 /mnt/block\n",
    "```\n",
    "\n",
    "and change the owner of that directory to the `cc` user:\n",
    "\n",
    "``` bash\n",
    "# run on node-project15-data\n",
    "sudo chown -R cc /mnt/block\n",
    "sudo chgrp -R cc /mnt/block\n",
    "```\n",
    "\n",
    "Run\n",
    "\n",
    "``` bash\n",
    "# run on node-project15-data\n",
    "df -h\n",
    "```\n",
    "\n",
    "and verify that the output includes a line with `/dev/vdb1` mounted on `/mnt/block`:\n",
    "\n"
   ]
  },
  {
   "cell_type": "markdown",
   "id": "8163178c-4b2d-4daf-b24f-00f54b0c1796",
   "metadata": {
    "tags": []
   },
   "source": [
    "### Object storage using the Horizon GUI\n",
    "\n",
    "Open the GUI for CHI@TACC:\n",
    "\n",
    "-   from the [Chameleon website](https://chameleoncloud.org/hardware/)\n",
    "-   click “Experiment” \\> “CHI@TACC”\n",
    "-   log in if prompted to do so\n",
    "-   check the project drop-down menu near the top left (which shows e.g. “CHI-XXXXXX”), and make sure the correct project is selected.\n",
    "\n",
    "In the menu sidebar on the left side, click on “Object Store” \\> “Containers” and then, “Create Container”. You will be prompted to set up your container step by step using a graphical “wizard”.\n",
    "\n",
    "-   Specify the name.\n",
    "-   Leave other settings at their defaults, and click “Submit”."
   ]
  },
  {
   "cell_type": "markdown",
   "id": "31ab460b-ddf9-42fc-a380-28eb4540c2fd",
   "metadata": {},
   "source": [
    "### Use `rclone` and authenticate to object store from a compute instance\n",
    "\n",
    "We will want to connect to this object store from the compute instance we configured earlier, and copy some data to it!\n",
    "\n",
    "For *write* access to the object store from the compute instance, we will need to authenticate with valid OpenStack credentials. To support this, we will create an *application credential*, which consists of an ID and a secret that allows a script or application to authenticate to the service.\n",
    "\n",
    "An application credential is a good way for something like a data pipeline to authenticate, since it can be used non-interactively, and can be revoked easily in case it is compromised without affecting the entire user account.\n",
    "\n",
    "In the menu sidebar on the left side of the Horizon GUI, click “Identity” \\> “Application Credentials”. Then, click “Create Application Credential”.\n",
    "\n",
    "-   In the “Name”, field, use “AdFame-project-group15”.\n",
    "-   Set the “Expiration” date to the end date of the current semester. (Note that this will be in UTC time, not your local time zone.) This ensures that if your credential is leaked (e.g. you accidentially push it to a public Github repository), the damage is mitigated.\n",
    "-   Click “Create Application Credential”.\n",
    "-   Copy the “ID” and “Secret” displayed in the dialog, and save them in a safe place. You will not be able to view the secret again from the Horizon GUI. Then, click “Download openrc file” to have another copy of the secret.\n",
    "\n",
    "Now that we have an application credential, we can use it to allow an application to authenticate to the Chameleon object store service. There are several applications and utilities for working with OpenStack’s Swift object store service; we will use one called [`rclone`](https://github.com/rclone/rclone).\n",
    "\n",
    "On the compute instance, install `rclone`:\n",
    "  \n",
    "``` bash\n",
    "# run on node-project15-data\n",
    "curl https://rclone.org/install.sh | sudo bash\n",
    "```\n",
    "\n",
    "We also need to modify the configuration file for FUSE (**F**ilesystem in **USE**rspace: the interface that allows user space applications to mount virtual filesystems), so that object store containers mounted by our user will be availabe to others, including Docker containers:\n",
    "\n",
    "``` bash\n",
    "# run on node-project15-data\n",
    "# this line makes sure user_allow_other is un-commented in /etc/fuse.conf\n",
    "sudo sed -i '/^#user_allow_other/s/^#//' /etc/fuse.conf\n",
    "```\n",
    "\n",
    "Next, create a configuration file for `rclone` with the ID and secret from the application credential you just generated:\n",
    "\n",
    "``` bash\n",
    "# run on node-project15-data\n",
    "mkdir -p ~/.config/rclone\n",
    "nano  ~/.config/rclone/rclone.conf\n",
    "```\n",
    "\n",
    "Paste the following into the config file, but substitute your own application credential ID and secret.\n",
    "\n",
    "You will also need to substitute your own user ID. You can find it using “Identity” \\> “Users” in the Horizon GUI; it is an alphanumeric string (*not* the human-readable user name).\n",
    "\n",
    "    [chi_tacc]\n",
    "    type = swift\n",
    "    user_id = YOUR_USER_ID\n",
    "    application_credential_id = APP_CRED_ID\n",
    "    application_credential_secret = APP_CRED_SECRET\n",
    "    auth = https://chi.tacc.chameleoncloud.org:5000/v3\n",
    "    region = CHI@TACC\n",
    "\n",
    "Use Ctrl+O and Enter to save the file, and Ctrl+X to exit `nano`.\n",
    "\n",
    "To test it, run\n",
    "\n",
    "``` bash\n",
    "# run on node-project15-data\n",
    "rclone lsd chi_tacc:\n",
    "```\n",
    "\n",
    "and verify that you see your container listed. This confirms that `rclone` can authenticate to the object store."
   ]
  },
  {
   "cell_type": "markdown",
   "id": "7a8c792d-13f8-47b3-994a-fbfebf257154",
   "metadata": {},
   "source": [
    "### Create a pipeline to load training data into the object store\n",
    "\n",
    "Next, we will prepare a simple ETL pipeline to get the videos and prompts dataset into the object store. It will:\n",
    "\n",
    "-   extract the data into a staging area (local filesystem on the instance) - volume mounted on VM instance earlier\n",
    "-   transform the data\n",
    "-   and then load the data into the object store\n",
    "\n",
    "``` bash\n",
    "# run on node-project15-data\n",
    "\n",
    "docker compose -f ~/AdFame/docker/docker-compose-training-data.yaml run extract-fashion-videos\n",
    "# run on node-project15-data\n",
    "docker compose -f ~/AdFame/docker/docker-compose-training-data.yaml run split-fashion-data\n",
    "\n",
    "# run on node-project15-data\n",
    "\n",
    "export RCLONE_CONTAINER=AdFame-project-group15\n",
    "\n",
    "docker compose -f ~/AdFame/docker/docker-compose-training-data.yaml run load-data\n",
    "```\n",
    "\n",
    "Now our training data is loaded into the object store and ready to use for training!\n",
    "\n",
    "Lets make the object store read-only to ensure data isn't deleted."
   ]
  },
  {
   "cell_type": "code",
   "execution_count": 1,
   "id": "397a36ce-6211-4be8-803c-b672ef1b200f",
   "metadata": {
    "tags": []
   },
   "outputs": [
    {
     "data": {
      "application/vnd.jupyter.widget-view+json": {
       "model_id": "7c65b9bb135d4933b0f4614fd1a0d384",
       "version_major": 2,
       "version_minor": 0
      },
      "text/plain": [
       "VBox(children=(Dropdown(description='Select Project', options=('CHI-251409',), value='CHI-251409'), Output()))"
      ]
     },
     "metadata": {},
     "output_type": "display_data"
    },
    {
     "data": {
      "application/vnd.jupyter.widget-view+json": {
       "model_id": "57c82c5f6b0b42c983240d68939019ae",
       "version_major": 2,
       "version_minor": 0
      },
      "text/plain": [
       "VBox(children=(Dropdown(description='Select Site', options=('CHI@TACC', 'CHI@UC', 'CHI@EVL', 'CHI@NCAR', 'CHI@…"
      ]
     },
     "metadata": {},
     "output_type": "display_data"
    }
   ],
   "source": [
    "# run in Chameleon Jupyter environment\n",
    "from chi import server, context\n",
    "import chi, os, time, datetime\n",
    "context.choose_project()\n",
    "context.choose_site(default=\"CHI@TACC\")"
   ]
  },
  {
   "cell_type": "code",
   "execution_count": 4,
   "id": "e9750d0a-2c60-4511-9ed6-63e443ba826f",
   "metadata": {
    "tags": []
   },
   "outputs": [],
   "source": [
    "# run in Chameleon Jupyter environment\n",
    "os_conn = chi.clients.connection()\n",
    "token = os_conn.authorize()\n",
    "storage_url = os_conn.object_store.get_endpoint()\n",
    "\n",
    "import swiftclient\n",
    "swift_conn = swiftclient.Connection(preauthurl=storage_url,\n",
    "                                    preauthtoken=token,\n",
    "                                    retries=5)"
   ]
  },
  {
   "cell_type": "code",
   "execution_count": 5,
   "id": "05d75630-334d-4061-af03-e3e7d5479246",
   "metadata": {
    "tags": []
   },
   "outputs": [],
   "source": [
    "# run in Chameleon Jupyter environment\n",
    "container_name = \"AdFame-project-group15\"\n",
    "headers = {\n",
    "    'X-Container-Read': '.r:*,.rlistings',\n",
    "    'X-Container-Write': ''\n",
    "}\n",
    "swift_conn.post_container(container_name, headers=headers)"
   ]
  },
  {
   "cell_type": "code",
   "execution_count": 6,
   "id": "48633c75-1289-4910-aedd-2bc68b791c70",
   "metadata": {
    "tags": []
   },
   "outputs": [
    {
     "name": "stdout",
     "output_type": "stream",
     "text": [
      "X-Container-Read: .r:*,.rlistings\n",
      "X-Container-Write: None\n"
     ]
    }
   ],
   "source": [
    "headers = swift_conn.head_container(container_name)\n",
    "print(\"X-Container-Read:\", headers.get('x-container-read'))\n",
    "print(\"X-Container-Write:\", headers.get('x-container-write'))"
   ]
  },
  {
   "cell_type": "markdown",
   "id": "d86eac5a-ed6b-4dc0-82b3-1bc9cc295338",
   "metadata": {},
   "source": [
    "### Delete block volume used as staging area\n"
   ]
  },
  {
   "cell_type": "code",
   "execution_count": null,
   "id": "37385da0-2121-49af-9135-5469b862ceb5",
   "metadata": {},
   "outputs": [],
   "source": [
    "# run in Chameleon Jupyter environment\n",
    "from chi import server, context\n",
    "import chi, os, time, datetime\n",
    "\n",
    "context.version = \"1.0\" \n",
    "context.choose_project()\n",
    "context.choose_site(default=\"KVM@TACC\")"
   ]
  },
  {
   "cell_type": "code",
   "execution_count": null,
   "id": "2ad2ab66-ac5c-4259-a60a-47dab30eb28c",
   "metadata": {},
   "outputs": [],
   "source": [
    "# run in Chameleon Jupyter environment\n",
    "username = os.getenv('USER') # all exp resources will have this prefix\n",
    "s = server.get_server(f\"block-persist-project15\")\n",
    "s.delete()"
   ]
  },
  {
   "cell_type": "code",
   "execution_count": null,
   "id": "c373484b-2bb6-4014-b086-fd439b3e5113",
   "metadata": {},
   "outputs": [],
   "source": [
    "# run in Chameleon Jupyter environment\n",
    "cinder_client = chi.clients.cinder()\n",
    "volume = [v for v in cinder_client.volumes.list() if v.name=='block-persist-project15'][0] # Substitute your own net ID\n",
    "cinder_client.volumes.delete(volume = volume)"
   ]
  }
 ],
 "metadata": {
  "kernelspec": {
   "display_name": "Python 3 (ipykernel)",
   "language": "python",
   "name": "python3"
  },
  "language_info": {
   "codemirror_mode": {
    "name": "ipython",
    "version": 3
   },
   "file_extension": ".py",
   "mimetype": "text/x-python",
   "name": "python",
   "nbconvert_exporter": "python",
   "pygments_lexer": "ipython3",
   "version": "3.10.9"
  }
 },
 "nbformat": 4,
 "nbformat_minor": 5
}
