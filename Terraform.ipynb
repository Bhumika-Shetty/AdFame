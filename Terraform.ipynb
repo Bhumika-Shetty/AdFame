{
 "cells": [
  {
   "cell_type": "code",
   "execution_count": 1,
   "id": "54adc1ad-affd-4fdf-97e5-dbb723b28e11",
   "metadata": {
    "tags": []
   },
   "outputs": [
    {
     "name": "stdout",
     "output_type": "stream",
     "text": [
      "--2025-05-10 17:21:06--  https://releases.hashicorp.com/terraform/1.10.5/terraform_1.10.5_linux_amd64.zip\n",
      "Resolving releases.hashicorp.com (releases.hashicorp.com)... 18.238.171.62, 18.238.171.54, 18.238.171.101, ...\n",
      "Connecting to releases.hashicorp.com (releases.hashicorp.com)|18.238.171.62|:443... connected.\n",
      "HTTP request sent, awaiting response... 200 OK\n",
      "Length: 27714924 (26M) [application/zip]\n",
      "Saving to: ‘terraform_1.10.5_linux_amd64.zip’\n",
      "\n",
      "terraform_1.10.5_li 100%[===================>]  26.43M   123MB/s    in 0.2s    \n",
      "\n",
      "2025-05-10 17:21:06 (123 MB/s) - ‘terraform_1.10.5_linux_amd64.zip’ saved [27714924/27714924]\n",
      "\n"
     ]
    }
   ],
   "source": [
    "mkdir -p /work/.local/bin\n",
    "wget https://releases.hashicorp.com/terraform/1.10.5/terraform_1.10.5_linux_amd64.zip\n",
    "unzip -o -q terraform_1.10.5_linux_amd64.zip\n",
    "mv terraform /work/.local/bin\n",
    "rm terraform_1.10.5_linux_amd64.zip"
   ]
  },
  {
   "cell_type": "code",
   "execution_count": 2,
   "id": "049d974f-c142-4878-829e-26d5eec7dcb4",
   "metadata": {
    "tags": []
   },
   "outputs": [],
   "source": [
    "export PATH=/work/.local/bin:$PATH"
   ]
  },
  {
   "cell_type": "code",
   "execution_count": 3,
   "id": "cb923fce-bcd0-49ed-aa0c-5885e09d54b0",
   "metadata": {
    "tags": []
   },
   "outputs": [
    {
     "name": "stdout",
     "output_type": "stream",
     "text": [
      "Usage: terraform [global options] <subcommand> [args]\n",
      "\n",
      "The available commands for execution are listed below.\n",
      "The primary workflow commands are given first, followed by\n",
      "less common or more advanced commands.\n",
      "\n",
      "Main commands:\n",
      "  init          Prepare your working directory for other commands\n",
      "  validate      Check whether the configuration is valid\n",
      "  plan          Show changes required by the current configuration\n",
      "  apply         Create or update infrastructure\n",
      "  destroy       Destroy previously-created infrastructure\n",
      "\n",
      "All other commands:\n",
      "  console       Try Terraform expressions at an interactive command prompt\n",
      "  fmt           Reformat your configuration in the standard style\n",
      "  force-unlock  Release a stuck lock on the current workspace\n",
      "  get           Install or upgrade remote Terraform modules\n",
      "  graph         Generate a Graphviz graph of the steps in an operation\n",
      "  import        Associate existing infrastructure with a Terraform resource\n",
      "  login         Obtain and save credentials for a remote host\n",
      "  logout        Remove locally-stored credentials for a remote host\n",
      "  metadata      Metadata related commands\n",
      "  modules       Show all declared modules in a working directory\n",
      "  output        Show output values from your root module\n",
      "  providers     Show the providers required for this configuration\n",
      "  refresh       Update the state to match remote systems\n",
      "  show          Show the current state or a saved plan\n",
      "  state         Advanced state management\n",
      "  taint         Mark a resource instance as not fully functional\n",
      "  test          Execute integration tests for Terraform modules\n",
      "  untaint       Remove the 'tainted' state from a resource instance\n",
      "  version       Show the current Terraform version\n",
      "  workspace     Workspace management\n",
      "\n",
      "Global options (use these before the subcommand, if any):\n",
      "  -chdir=DIR    Switch to a different working directory before executing the\n",
      "                given subcommand.\n",
      "  -help         Show this help output, or the help for a specified subcommand.\n",
      "  -version      An alias for the \"version\" subcommand.\n"
     ]
    },
    {
     "ename": "",
     "evalue": "127",
     "output_type": "error",
     "traceback": []
    }
   ],
   "source": [
    "terraform"
   ]
  },
  {
   "cell_type": "code",
   "execution_count": 4,
   "id": "42699660-1c1b-4ae3-bdb6-e4dc636cdb22",
   "metadata": {
    "tags": []
   },
   "outputs": [
    {
     "name": "stdout",
     "output_type": "stream",
     "text": [
      "Requirement already satisfied: ansible-core==2.16.9 in ./.local/lib/python3.10/site-packages (2.16.9)\n",
      "Requirement already satisfied: ansible==9.8.0 in ./.local/lib/python3.10/site-packages (9.8.0)\n",
      "Requirement already satisfied: cryptography in /opt/conda/lib/python3.10/site-packages (from ansible-core==2.16.9) (39.0.2)\n",
      "Requirement already satisfied: resolvelib<1.1.0,>=0.5.3 in ./.local/lib/python3.10/site-packages (from ansible-core==2.16.9) (1.0.1)\n",
      "Requirement already satisfied: jinja2>=3.0.0 in /opt/conda/lib/python3.10/site-packages (from ansible-core==2.16.9) (3.1.2)\n",
      "Requirement already satisfied: packaging in /opt/conda/lib/python3.10/site-packages (from ansible-core==2.16.9) (23.0)\n",
      "Requirement already satisfied: PyYAML>=5.1 in /opt/conda/lib/python3.10/site-packages (from ansible-core==2.16.9) (5.3.1)\n",
      "Requirement already satisfied: MarkupSafe>=2.0 in /opt/conda/lib/python3.10/site-packages (from jinja2>=3.0.0->ansible-core==2.16.9) (2.1.2)\n",
      "Requirement already satisfied: cffi>=1.12 in /opt/conda/lib/python3.10/site-packages (from cryptography->ansible-core==2.16.9) (1.15.1)\n",
      "Requirement already satisfied: pycparser in /opt/conda/lib/python3.10/site-packages (from cffi>=1.12->cryptography->ansible-core==2.16.9) (2.21)\n"
     ]
    }
   ],
   "source": [
    "PYTHONUSERBASE=/work/.local pip install --user ansible-core==2.16.9 ansible==9.8.0"
   ]
  },
  {
   "cell_type": "code",
   "execution_count": 5,
   "id": "555c06a8-dba7-4d86-b4c6-422f234ef95a",
   "metadata": {
    "tags": []
   },
   "outputs": [],
   "source": [
    "export PATH=/work/.local/bin:$PATH\n",
    "export PYTHONUSERBASE=/work/.local"
   ]
  },
  {
   "cell_type": "code",
   "execution_count": 6,
   "id": "a3a8bc45-e516-42d1-9d76-f7a2c0958ee1",
   "metadata": {
    "tags": []
   },
   "outputs": [
    {
     "name": "stdout",
     "output_type": "stream",
     "text": [
      "usage: ansible-playbook [-h] [--version] [-v] [--private-key PRIVATE_KEY_FILE]\n",
      "                        [-u REMOTE_USER] [-c CONNECTION] [-T TIMEOUT]\n",
      "                        [--ssh-common-args SSH_COMMON_ARGS]\n",
      "                        [--sftp-extra-args SFTP_EXTRA_ARGS]\n",
      "                        [--scp-extra-args SCP_EXTRA_ARGS]\n",
      "                        [--ssh-extra-args SSH_EXTRA_ARGS]\n",
      "                        [-k | --connection-password-file CONNECTION_PASSWORD_FILE]\n",
      "                        [--force-handlers] [--flush-cache] [-b]\n",
      "                        [--become-method BECOME_METHOD]\n",
      "                        [--become-user BECOME_USER]\n",
      "                        [-K | --become-password-file BECOME_PASSWORD_FILE]\n",
      "                        [-t TAGS] [--skip-tags SKIP_TAGS] [-C] [-D]\n",
      "                        [-i INVENTORY] [--list-hosts] [-l SUBSET]\n",
      "                        [-e EXTRA_VARS] [--vault-id VAULT_IDS]\n",
      "                        [-J | --vault-password-file VAULT_PASSWORD_FILES]\n",
      "                        [-f FORKS] [-M MODULE_PATH] [--syntax-check]\n",
      "                        [--list-tasks] [--list-tags] [--step]\n",
      "                        [--start-at-task START_AT_TASK]\n",
      "                        playbook [playbook ...]\n",
      "\n",
      "Runs Ansible playbooks, executing the defined tasks on the targeted hosts.\n",
      "\n",
      "positional arguments:\n",
      "  playbook              Playbook(s)\n",
      "\n",
      "options:\n",
      "  --become-password-file BECOME_PASSWORD_FILE, --become-pass-file BECOME_PASSWORD_FILE\n",
      "                        Become password file\n",
      "  --connection-password-file CONNECTION_PASSWORD_FILE, --conn-pass-file CONNECTION_PASSWORD_FILE\n",
      "                        Connection password file\n",
      "  --flush-cache         clear the fact cache for every host in inventory\n",
      "  --force-handlers      run handlers even if a task fails\n",
      "  --list-hosts          outputs a list of matching hosts; does not execute\n",
      "                        anything else\n",
      "  --list-tags           list all available tags\n",
      "  --list-tasks          list all tasks that would be executed\n",
      "  --skip-tags SKIP_TAGS\n",
      "                        only run plays and tasks whose tags do not match these\n",
      "                        values. This argument may be specified multiple times.\n",
      "  --start-at-task START_AT_TASK\n",
      "                        start the playbook at the task matching this name\n",
      "  --step                one-step-at-a-time: confirm each task before running\n",
      "  --syntax-check        perform a syntax check on the playbook, but do not\n",
      "                        execute it\n",
      "  --vault-id VAULT_IDS  the vault identity to use. This argument may be\n",
      "                        specified multiple times.\n",
      "  --vault-password-file VAULT_PASSWORD_FILES, --vault-pass-file VAULT_PASSWORD_FILES\n",
      "                        vault password file\n",
      "  --version             show program's version number, config file location,\n",
      "                        configured module search path, module location,\n",
      "                        executable location and exit\n",
      "  -C, --check           don't make any changes; instead, try to predict some\n",
      "                        of the changes that may occur\n",
      "  -D, --diff            when changing (small) files and templates, show the\n",
      "                        differences in those files; works great with --check\n",
      "  -J, --ask-vault-password, --ask-vault-pass\n",
      "                        ask for vault password\n",
      "  -K, --ask-become-pass\n",
      "                        ask for privilege escalation password\n",
      "  -M MODULE_PATH, --module-path MODULE_PATH\n",
      "                        prepend colon-separated path(s) to module library\n",
      "                        (default={{ ANSIBLE_HOME ~\n",
      "                        \"/plugins/modules:/usr/share/ansible/plugins/modules\"\n",
      "                        }}). This argument may be specified multiple times.\n",
      "  -e EXTRA_VARS, --extra-vars EXTRA_VARS\n",
      "                        set additional variables as key=value or YAML/JSON, if\n",
      "                        filename prepend with @. This argument may be\n",
      "                        specified multiple times.\n",
      "  -f FORKS, --forks FORKS\n",
      "                        specify number of parallel processes to use\n",
      "                        (default=5)\n",
      "  -h, --help            show this help message and exit\n",
      "  -i INVENTORY, --inventory INVENTORY, --inventory-file INVENTORY\n",
      "                        specify inventory host path or comma separated host\n",
      "                        list. --inventory-file is deprecated. This argument\n",
      "                        may be specified multiple times.\n",
      "  -k, --ask-pass        ask for connection password\n",
      "  -l SUBSET, --limit SUBSET\n",
      "                        further limit selected hosts to an additional pattern\n",
      "  -t TAGS, --tags TAGS  only run plays and tasks tagged with these values.\n",
      "                        This argument may be specified multiple times.\n",
      "  -v, --verbose         Causes Ansible to print more debug messages. Adding\n",
      "                        multiple -v will increase the verbosity, the builtin\n",
      "                        plugins currently evaluate up to -vvvvvv. A reasonable\n",
      "                        level to start is -vvv, connection debugging might\n",
      "                        require -vvvv. This argument may be specified multiple\n",
      "                        times.\n",
      "\n",
      "Connection Options:\n",
      "  control as whom and how to connect to hosts\n",
      "\n",
      "  --private-key PRIVATE_KEY_FILE, --key-file PRIVATE_KEY_FILE\n",
      "                        use this file to authenticate the connection\n",
      "  --scp-extra-args SCP_EXTRA_ARGS\n",
      "                        specify extra arguments to pass to scp only (e.g. -l)\n",
      "  --sftp-extra-args SFTP_EXTRA_ARGS\n",
      "                        specify extra arguments to pass to sftp only (e.g. -f,\n",
      "                        -l)\n",
      "  --ssh-common-args SSH_COMMON_ARGS\n",
      "                        specify common arguments to pass to sftp/scp/ssh (e.g.\n",
      "                        ProxyCommand)\n",
      "  --ssh-extra-args SSH_EXTRA_ARGS\n",
      "                        specify extra arguments to pass to ssh only (e.g. -R)\n",
      "  -T TIMEOUT, --timeout TIMEOUT\n",
      "                        override the connection timeout in seconds (default\n",
      "                        depends on connection)\n",
      "  -c CONNECTION, --connection CONNECTION\n",
      "                        connection type to use (default=ssh)\n",
      "  -u REMOTE_USER, --user REMOTE_USER\n",
      "                        connect as this user (default=None)\n",
      "\n",
      "Privilege Escalation Options:\n",
      "  control how and which user you become as on target hosts\n",
      "\n",
      "  --become-method BECOME_METHOD\n",
      "                        privilege escalation method to use (default=sudo), use\n",
      "                        `ansible-doc -t become -l` to list valid choices.\n",
      "  --become-user BECOME_USER\n",
      "                        run operations as this user (default=root)\n",
      "  -b, --become          run operations with become (does not imply password\n",
      "                        prompting)\n"
     ]
    }
   ],
   "source": [
    "ansible-playbook --help"
   ]
  },
  {
   "cell_type": "code",
   "execution_count": 7,
   "id": "f5bbe447-9ccb-4b25-b0d8-083bcd5e99bc",
   "metadata": {
    "tags": []
   },
   "outputs": [],
   "source": [
    "export PATH=/work/.local/bin:$PATH\n",
    "export PYTHONUSERBASE=/work/.local"
   ]
  },
  {
   "cell_type": "code",
   "execution_count": 8,
   "id": "33ee4970-ba6c-4053-bbd8-df4c68108803",
   "metadata": {
    "tags": []
   },
   "outputs": [
    {
     "name": "stdout",
     "output_type": "stream",
     "text": [
      "Requirement already satisfied: ansible==9.8.0 in ./.local/lib/python3.10/site-packages (from -r /work/AdFame/ansible/requirements.txt (line 1)) (9.8.0)\n",
      "Requirement already satisfied: jmespath==1.0.1 in /opt/conda/lib/python3.10/site-packages (from -r /work/AdFame/ansible/requirements.txt (line 3)) (1.0.1)\n",
      "Collecting jsonschema==4.23.0\n",
      "  Downloading jsonschema-4.23.0-py3-none-any.whl (88 kB)\n",
      "     ━━━━━━━━━━━━━━━━━━━━━━━━━━━━━━━━━━━━━━━━ 88.5/88.5 kB 2.1 MB/s eta 0:00:00\n",
      "\n",
      "Requirement already satisfied: netaddr==1.3.0 in /opt/conda/lib/python3.10/site-packages (from -r /work/AdFame/ansible/requirements.txt (line 7)) (1.3.0)\n",
      "Requirement already satisfied: ansible-core~=2.16.9 in ./.local/lib/python3.10/site-packages (from ansible==9.8.0->-r /work/AdFame/ansible/requirements.txt (line 1)) (2.16.9)\n",
      "Collecting referencing>=0.28.4\n",
      "  Downloading referencing-0.36.2-py3-none-any.whl (26 kB)\n",
      "Collecting jsonschema-specifications>=2023.03.6\n",
      "  Downloading jsonschema_specifications-2025.4.1-py3-none-any.whl (18 kB)\n",
      "Requirement already satisfied: attrs>=22.2.0 in /opt/conda/lib/python3.10/site-packages (from jsonschema==4.23.0->-r /work/AdFame/ansible/requirements.txt (line 5)) (22.2.0)\n",
      "Collecting rpds-py>=0.7.1\n",
      "  Downloading rpds_py-0.24.0-cp310-cp310-manylinux_2_17_x86_64.manylinux2014_x86_64.whl (389 kB)\n",
      "     ━━━━━━━━━━━━━━━━━━━━━━━━━━━━━━━━━━━━━━━ 389.5/389.5 kB 4.2 MB/s eta 0:00:00\n",
      "\n",
      "Requirement already satisfied: jinja2>=3.0.0 in /opt/conda/lib/python3.10/site-packages (from ansible-core~=2.16.9->ansible==9.8.0->-r /work/AdFame/ansible/requirements.txt (line 1)) (3.1.2)\n",
      "Requirement already satisfied: packaging in /opt/conda/lib/python3.10/site-packages (from ansible-core~=2.16.9->ansible==9.8.0->-r /work/AdFame/ansible/requirements.txt (line 1)) (23.0)\n",
      "Requirement already satisfied: resolvelib<1.1.0,>=0.5.3 in ./.local/lib/python3.10/site-packages (from ansible-core~=2.16.9->ansible==9.8.0->-r /work/AdFame/ansible/requirements.txt (line 1)) (1.0.1)\n",
      "Requirement already satisfied: cryptography in /opt/conda/lib/python3.10/site-packages (from ansible-core~=2.16.9->ansible==9.8.0->-r /work/AdFame/ansible/requirements.txt (line 1)) (39.0.2)\n",
      "Requirement already satisfied: PyYAML>=5.1 in /opt/conda/lib/python3.10/site-packages (from ansible-core~=2.16.9->ansible==9.8.0->-r /work/AdFame/ansible/requirements.txt (line 1)) (5.3.1)\n",
      "Requirement already satisfied: typing-extensions>=4.4.0 in /opt/conda/lib/python3.10/site-packages (from referencing>=0.28.4->jsonschema==4.23.0->-r /work/AdFame/ansible/requirements.txt (line 5)) (4.12.2)\n",
      "Requirement already satisfied: MarkupSafe>=2.0 in /opt/conda/lib/python3.10/site-packages (from jinja2>=3.0.0->ansible-core~=2.16.9->ansible==9.8.0->-r /work/AdFame/ansible/requirements.txt (line 1)) (2.1.2)\n",
      "Requirement already satisfied: cffi>=1.12 in /opt/conda/lib/python3.10/site-packages (from cryptography->ansible-core~=2.16.9->ansible==9.8.0->-r /work/AdFame/ansible/requirements.txt (line 1)) (1.15.1)\n",
      "Requirement already satisfied: pycparser in /opt/conda/lib/python3.10/site-packages (from cffi>=1.12->cryptography->ansible-core~=2.16.9->ansible==9.8.0->-r /work/AdFame/ansible/requirements.txt (line 1)) (2.21)\n",
      "Installing collected packages: rpds-py, referencing, jsonschema-specifications, jsonschema\n",
      "Successfully installed jsonschema-4.23.0 jsonschema-specifications-2025.4.1 referencing-0.36.2 rpds-py-0.24.0\n"
     ]
    }
   ],
   "source": [
    "PYTHONUSERBASE=/work/.local pip install --user -r /work/AdFame/ansible/requirements.txt"
   ]
  },
  {
   "cell_type": "code",
   "execution_count": null,
   "id": "de9c214d-1875-406e-90ff-b8196644e570",
   "metadata": {},
   "outputs": [],
   "source": []
  }
 ],
 "metadata": {
  "kernelspec": {
   "display_name": "Bash",
   "language": "bash",
   "name": "bash"
  },
  "language_info": {
   "codemirror_mode": "shell",
   "file_extension": ".sh",
   "mimetype": "text/x-sh",
   "name": "bash"
  }
 },
 "nbformat": 4,
 "nbformat_minor": 5
}
