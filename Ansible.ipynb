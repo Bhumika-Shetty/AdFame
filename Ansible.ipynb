{
 "cells": [
  {
   "cell_type": "code",
   "execution_count": 1,
   "id": "26fb6507-e9d5-46a4-97dc-01a0a9014266",
   "metadata": {
    "tags": []
   },
   "outputs": [],
   "source": [
    "export PATH=/work/.local/bin:$PATH\n",
    "export PYTHONUSERBASE=/work/.local"
   ]
  },
  {
   "cell_type": "code",
   "execution_count": 2,
   "id": "00da0447-5225-4b39-8d3e-5d28a42fe19c",
   "metadata": {
    "tags": []
   },
   "outputs": [
    {
     "name": "stdout",
     "output_type": "stream",
     "text": [
      "[defaults]\n",
      "stdout_callback = yaml\n",
      "inventory = /work/Medical-Chatbot-MLOps/ansible/inventory.yml\n",
      "\n",
      "[ssh_connection]\n",
      "ssh_args = -o StrictHostKeyChecking=off -o UserKnownHostsFile=/dev/null -o ForwardAgent=yes -o ProxyCommand=\"ssh -o StrictHostKeyChecking=no -o UserKnownHostsFile=/dev/null -W %h:%p cc@129.114.27.185\"\n"
     ]
    }
   ],
   "source": [
    "cat /work/AdFame/ansible/ansible.cfg"
   ]
  },
  {
   "cell_type": "code",
   "execution_count": 3,
   "id": "2f432726-914f-4727-a40f-3f4c19643d2c",
   "metadata": {
    "tags": []
   },
   "outputs": [],
   "source": [
    "cd /work/AdFame/ansible"
   ]
  },
  {
   "cell_type": "code",
   "execution_count": 4,
   "id": "d6d807af-beff-425e-8588-8cca68aa0d14",
   "metadata": {
    "tags": []
   },
   "outputs": [
    {
     "name": "stdout",
     "output_type": "stream",
     "text": [
      "node1 | SUCCESS => {\n",
      "    \"changed\": false,\n",
      "    \"ping\": \"pong\"\n",
      "}\n",
      "node2 | SUCCESS => {\n",
      "    \"changed\": false,\n",
      "    \"ping\": \"pong\"\n",
      "}\n",
      "node3 | SUCCESS => {\n",
      "    \"changed\": false,\n",
      "    \"ping\": \"pong\"\n",
      "}\n"
     ]
    }
   ],
   "source": [
    "ansible -i inventory.yml all -m ping"
   ]
  },
  {
   "cell_type": "code",
   "execution_count": 5,
   "id": "6aed41f5-ade3-4456-8279-46d22c0571a7",
   "metadata": {
    "tags": []
   },
   "outputs": [
    {
     "name": "stdout",
     "output_type": "stream",
     "text": [
      "\n",
      "PLAY [Hello, world - use Ansible to run a command on each host] ****************\n",
      "\n",
      "TASK [Run hostname command] ****************************************************\n",
      "changed: [node1]\n",
      "changed: [node3]\n",
      "changed: [node2]\n",
      "\n",
      "TASK [Show hostname output] ****************************************************\n",
      "ok: [node1] => \n",
      "  msg: The hostname of node1 is node1-mlops-project-15\n",
      "ok: [node2] => \n",
      "  msg: The hostname of node2 is node2-mlops-project-15\n",
      "ok: [node3] => \n",
      "  msg: The hostname of node3 is node3-mlops-project-15\n",
      "\n",
      "PLAY RECAP *********************************************************************\n",
      "node1                      : ok=2    changed=1    unreachable=0    failed=0    skipped=0    rescued=0    ignored=0   \n",
      "node2                      : ok=2    changed=1    unreachable=0    failed=0    skipped=0    rescued=0    ignored=0   \n",
      "node3                      : ok=2    changed=1    unreachable=0    failed=0    skipped=0    rescued=0    ignored=0   \n",
      "\n"
     ]
    }
   ],
   "source": [
    "ansible-playbook -i inventory.yml general/hello_host.yml"
   ]
  },
  {
   "cell_type": "code",
   "execution_count": null,
   "id": "ecde9720-451f-404b-9a29-876224cdbe25",
   "metadata": {},
   "outputs": [],
   "source": []
  }
 ],
 "metadata": {
  "kernelspec": {
   "display_name": "Bash",
   "language": "bash",
   "name": "bash"
  },
  "language_info": {
   "codemirror_mode": "shell",
   "file_extension": ".sh",
   "mimetype": "text/x-sh",
   "name": "bash"
  }
 },
 "nbformat": 4,
 "nbformat_minor": 5
}
